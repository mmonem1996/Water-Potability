{
  "nbformat": 4,
  "nbformat_minor": 0,
  "metadata": {
    "colab": {
      "name": "ML Classification Assignment",
      "provenance": [],
      "mount_file_id": "1eLzioLD8Pvns63R6ZCHWZrzUXmgAxrzA",
      "authorship_tag": "ABX9TyM7fHtT8zndXf9T3YxMu3jd",
      "include_colab_link": true
    },
    "kernelspec": {
      "name": "python3",
      "display_name": "Python 3"
    },
    "language_info": {
      "name": "python"
    }
  },
  "cells": [
    {
      "cell_type": "markdown",
      "metadata": {
        "id": "view-in-github",
        "colab_type": "text"
      },
      "source": [
        "<a href=\"https://colab.research.google.com/github/mmonem1996/Water-Potability/blob/main/ML_Classification_Assignment.ipynb\" target=\"_parent\"><img src=\"https://colab.research.google.com/assets/colab-badge.svg\" alt=\"Open In Colab\"/></a>"
      ]
    },
    {
      "cell_type": "markdown",
      "metadata": {
        "id": "8j0xTwEruYvy"
      },
      "source": [
        "# Main Objective and Data Description\n",
        "\n",
        "The main objective of this project is to understand the varios features of water affect its potability (drinkability).\n",
        "So in this excersice we will be focused on interpretation.\n",
        "\n",
        "The analysis is carried out on water_potability.csv available in Kaggle website. This file include 9 features dataset describing various characteristics of water and target variable named potability (1 if potable and 0 if not)"
      ]
    },
    {
      "cell_type": "code",
      "metadata": {
        "id": "GNshmXLhrlJm"
      },
      "source": [
        "import numpy as np\n",
        "import pandas as pd\n",
        "from matplotlib import pyplot as plt\n",
        "import seaborn as sns\n",
        "from google.colab import drive\n",
        "from shutil import copyfile\n",
        "from sklearn.preprocessing import StandardScaler\n",
        "%matplotlib inline"
      ],
      "execution_count": 1,
      "outputs": []
    },
    {
      "cell_type": "code",
      "metadata": {
        "id": "IFm-pnswaSly"
      },
      "source": [
        "sns.set_context('notebook')\n",
        "sns.set_style('dark')"
      ],
      "execution_count": 2,
      "outputs": []
    },
    {
      "cell_type": "code",
      "metadata": {
        "colab": {
          "base_uri": "https://localhost:8080/"
        },
        "id": "XT5EwpYcsUXI",
        "outputId": "968487c4-880a-401c-d20d-d91db0d43f55"
      },
      "source": [
        "drive.mount('/content/gdrive/')"
      ],
      "execution_count": 3,
      "outputs": [
        {
          "output_type": "stream",
          "name": "stdout",
          "text": [
            "Mounted at /content/gdrive/\n"
          ]
        }
      ]
    },
    {
      "cell_type": "code",
      "metadata": {
        "colab": {
          "base_uri": "https://localhost:8080/",
          "height": 35
        },
        "id": "rFC-cheBsi-a",
        "outputId": "a7cca5d8-bcf8-4c05-ce4c-662c50368f2f"
      },
      "source": [
        "src = '/content/gdrive/MyDrive/Colab Notebooks/Machine Learning - IBM/water_potability.csv'\n",
        "dst = '/content/water_potability.csv'\n",
        "copyfile(src, dst)"
      ],
      "execution_count": 4,
      "outputs": [
        {
          "output_type": "execute_result",
          "data": {
            "application/vnd.google.colaboratory.intrinsic+json": {
              "type": "string"
            },
            "text/plain": [
              "'/content/water_potability.csv'"
            ]
          },
          "metadata": {},
          "execution_count": 4
        }
      ]
    },
    {
      "cell_type": "code",
      "metadata": {
        "colab": {
          "base_uri": "https://localhost:8080/",
          "height": 204
        },
        "id": "2kq1hbtdtUt1",
        "outputId": "b83ef031-7f42-4bcd-e0ae-0b1123482706"
      },
      "source": [
        "data = pd.read_csv(dst)\n",
        "data.head()"
      ],
      "execution_count": 5,
      "outputs": [
        {
          "output_type": "execute_result",
          "data": {
            "text/html": [
              "<div>\n",
              "<style scoped>\n",
              "    .dataframe tbody tr th:only-of-type {\n",
              "        vertical-align: middle;\n",
              "    }\n",
              "\n",
              "    .dataframe tbody tr th {\n",
              "        vertical-align: top;\n",
              "    }\n",
              "\n",
              "    .dataframe thead th {\n",
              "        text-align: right;\n",
              "    }\n",
              "</style>\n",
              "<table border=\"1\" class=\"dataframe\">\n",
              "  <thead>\n",
              "    <tr style=\"text-align: right;\">\n",
              "      <th></th>\n",
              "      <th>ph</th>\n",
              "      <th>Hardness</th>\n",
              "      <th>Solids</th>\n",
              "      <th>Chloramines</th>\n",
              "      <th>Sulfate</th>\n",
              "      <th>Conductivity</th>\n",
              "      <th>Organic_carbon</th>\n",
              "      <th>Trihalomethanes</th>\n",
              "      <th>Turbidity</th>\n",
              "      <th>Potability</th>\n",
              "    </tr>\n",
              "  </thead>\n",
              "  <tbody>\n",
              "    <tr>\n",
              "      <th>0</th>\n",
              "      <td>NaN</td>\n",
              "      <td>204.890455</td>\n",
              "      <td>20791.318981</td>\n",
              "      <td>7.300212</td>\n",
              "      <td>368.516441</td>\n",
              "      <td>564.308654</td>\n",
              "      <td>10.379783</td>\n",
              "      <td>86.990970</td>\n",
              "      <td>2.963135</td>\n",
              "      <td>0</td>\n",
              "    </tr>\n",
              "    <tr>\n",
              "      <th>1</th>\n",
              "      <td>3.716080</td>\n",
              "      <td>129.422921</td>\n",
              "      <td>18630.057858</td>\n",
              "      <td>6.635246</td>\n",
              "      <td>NaN</td>\n",
              "      <td>592.885359</td>\n",
              "      <td>15.180013</td>\n",
              "      <td>56.329076</td>\n",
              "      <td>4.500656</td>\n",
              "      <td>0</td>\n",
              "    </tr>\n",
              "    <tr>\n",
              "      <th>2</th>\n",
              "      <td>8.099124</td>\n",
              "      <td>224.236259</td>\n",
              "      <td>19909.541732</td>\n",
              "      <td>9.275884</td>\n",
              "      <td>NaN</td>\n",
              "      <td>418.606213</td>\n",
              "      <td>16.868637</td>\n",
              "      <td>66.420093</td>\n",
              "      <td>3.055934</td>\n",
              "      <td>0</td>\n",
              "    </tr>\n",
              "    <tr>\n",
              "      <th>3</th>\n",
              "      <td>8.316766</td>\n",
              "      <td>214.373394</td>\n",
              "      <td>22018.417441</td>\n",
              "      <td>8.059332</td>\n",
              "      <td>356.886136</td>\n",
              "      <td>363.266516</td>\n",
              "      <td>18.436524</td>\n",
              "      <td>100.341674</td>\n",
              "      <td>4.628771</td>\n",
              "      <td>0</td>\n",
              "    </tr>\n",
              "    <tr>\n",
              "      <th>4</th>\n",
              "      <td>9.092223</td>\n",
              "      <td>181.101509</td>\n",
              "      <td>17978.986339</td>\n",
              "      <td>6.546600</td>\n",
              "      <td>310.135738</td>\n",
              "      <td>398.410813</td>\n",
              "      <td>11.558279</td>\n",
              "      <td>31.997993</td>\n",
              "      <td>4.075075</td>\n",
              "      <td>0</td>\n",
              "    </tr>\n",
              "  </tbody>\n",
              "</table>\n",
              "</div>"
            ],
            "text/plain": [
              "         ph    Hardness        Solids  ...  Trihalomethanes  Turbidity  Potability\n",
              "0       NaN  204.890455  20791.318981  ...        86.990970   2.963135           0\n",
              "1  3.716080  129.422921  18630.057858  ...        56.329076   4.500656           0\n",
              "2  8.099124  224.236259  19909.541732  ...        66.420093   3.055934           0\n",
              "3  8.316766  214.373394  22018.417441  ...       100.341674   4.628771           0\n",
              "4  9.092223  181.101509  17978.986339  ...        31.997993   4.075075           0\n",
              "\n",
              "[5 rows x 10 columns]"
            ]
          },
          "metadata": {},
          "execution_count": 5
        }
      ]
    },
    {
      "cell_type": "markdown",
      "metadata": {
        "id": "LnG9RU9BCpwS"
      },
      "source": [
        "All features variable are Numeric"
      ]
    },
    {
      "cell_type": "code",
      "metadata": {
        "colab": {
          "base_uri": "https://localhost:8080/"
        },
        "id": "m-eBN51dCkPv",
        "outputId": "9121dd7f-7235-4367-b841-1a5c896a831f"
      },
      "source": [
        "data.info()"
      ],
      "execution_count": 6,
      "outputs": [
        {
          "output_type": "stream",
          "name": "stdout",
          "text": [
            "<class 'pandas.core.frame.DataFrame'>\n",
            "RangeIndex: 3276 entries, 0 to 3275\n",
            "Data columns (total 10 columns):\n",
            " #   Column           Non-Null Count  Dtype  \n",
            "---  ------           --------------  -----  \n",
            " 0   ph               2785 non-null   float64\n",
            " 1   Hardness         3276 non-null   float64\n",
            " 2   Solids           3276 non-null   float64\n",
            " 3   Chloramines      3276 non-null   float64\n",
            " 4   Sulfate          2495 non-null   float64\n",
            " 5   Conductivity     3276 non-null   float64\n",
            " 6   Organic_carbon   3276 non-null   float64\n",
            " 7   Trihalomethanes  3114 non-null   float64\n",
            " 8   Turbidity        3276 non-null   float64\n",
            " 9   Potability       3276 non-null   int64  \n",
            "dtypes: float64(9), int64(1)\n",
            "memory usage: 256.1 KB\n"
          ]
        }
      ]
    },
    {
      "cell_type": "markdown",
      "metadata": {
        "id": "X1tIHpyQtj5i"
      },
      "source": [
        "# Data Exploration & Preprocessing"
      ]
    },
    {
      "cell_type": "markdown",
      "metadata": {
        "id": "q034rUDQziIJ"
      },
      "source": [
        "\n",
        "\n",
        "1 - The first step is dropping rows with missing values\n",
        "\n"
      ]
    },
    {
      "cell_type": "markdown",
      "metadata": {
        "id": "r0U9Se76yel-"
      },
      "source": [
        "2 - As we can see see below, the target variable is slightly skewed   toward value \"1\" (60% \"1\" + 40% \"0\"), but we will treat it as if no skewness exist since this slight difference is not of a great influence"
      ]
    },
    {
      "cell_type": "code",
      "metadata": {
        "colab": {
          "base_uri": "https://localhost:8080/"
        },
        "id": "JAongCxVtiSq",
        "outputId": "7647a7d1-0e31-4771-d598-323ced73a524"
      },
      "source": [
        "data = data.dropna()\n",
        "data.Potability.value_counts()"
      ],
      "execution_count": 7,
      "outputs": [
        {
          "output_type": "execute_result",
          "data": {
            "text/plain": [
              "0    1200\n",
              "1     811\n",
              "Name: Potability, dtype: int64"
            ]
          },
          "metadata": {},
          "execution_count": 7
        }
      ]
    },
    {
      "cell_type": "markdown",
      "metadata": {
        "id": "uYqzgcpv50yu"
      },
      "source": [
        "3 - From the correlation analysis below, we can see that there overall slight correlation between the target variable and the features. \n",
        "Interestingly, the target variable \"*Potability*\" correlates the most with \"*Solids*\" (although as low as 4%), which is the amount of solids dissolved in the water."
      ]
    },
    {
      "cell_type": "code",
      "metadata": {
        "colab": {
          "base_uri": "https://localhost:8080/",
          "height": 806
        },
        "id": "ZHjRViIzzax6",
        "outputId": "2847b59b-9065-4848-a163-a8105baef338"
      },
      "source": [
        "correlation_matrix = data.corr()\n",
        "_, ax = plt.subplots(figsize = (20, 12))\n",
        "sns.heatmap(correlation_matrix, center=0, annot=True)"
      ],
      "execution_count": 8,
      "outputs": [
        {
          "output_type": "execute_result",
          "data": {
            "text/plain": [
              "<matplotlib.axes._subplots.AxesSubplot at 0x7f7d35d88c90>"
            ]
          },
          "metadata": {},
          "execution_count": 8
        },
        {
          "output_type": "display_data",
          "data": {
            "image/png": "[encoded data removed]",
            "text/plain": [
              "<Figure size 1440x864 with 2 Axes>"
            ]
          },
          "metadata": {}
        }
      ]
    },
    {
      "cell_type": "code",
      "metadata": {
        "colab": {
          "base_uri": "https://localhost:8080/",
          "height": 328
        },
        "id": "F3sczRYJ8k0N",
        "outputId": "ab2bd41a-4c01-47ab-c661-e8aaffb9b18e"
      },
      "source": [
        "features_correlation = data.corrwith(data['Potability'])\\\n",
        ".to_frame()\\\n",
        ".loc[(data.corrwith(data['Potability']).apply(abs).sort_values(ascending=False).index)[1:],:]\\\n",
        ".reset_index()\\\n",
        ".rename({0:'Correlation with Potability', 'index':'Feature'} , axis=1)\n",
        "features_correlation"
      ],
      "execution_count": 9,
      "outputs": [
        {
          "output_type": "execute_result",
          "data": {
            "text/html": [
              "<div>\n",
              "<style scoped>\n",
              "    .dataframe tbody tr th:only-of-type {\n",
              "        vertical-align: middle;\n",
              "    }\n",
              "\n",
              "    .dataframe tbody tr th {\n",
              "        vertical-align: top;\n",
              "    }\n",
              "\n",
              "    .dataframe thead th {\n",
              "        text-align: right;\n",
              "    }\n",
              "</style>\n",
              "<table border=\"1\" class=\"dataframe\">\n",
              "  <thead>\n",
              "    <tr style=\"text-align: right;\">\n",
              "      <th></th>\n",
              "      <th>Feature</th>\n",
              "      <th>Correlation with Potability</th>\n",
              "    </tr>\n",
              "  </thead>\n",
              "  <tbody>\n",
              "    <tr>\n",
              "      <th>0</th>\n",
              "      <td>Solids</td>\n",
              "      <td>0.040674</td>\n",
              "    </tr>\n",
              "    <tr>\n",
              "      <th>1</th>\n",
              "      <td>Turbidity</td>\n",
              "      <td>0.022682</td>\n",
              "    </tr>\n",
              "    <tr>\n",
              "      <th>2</th>\n",
              "      <td>Chloramines</td>\n",
              "      <td>0.020784</td>\n",
              "    </tr>\n",
              "    <tr>\n",
              "      <th>3</th>\n",
              "      <td>Organic_carbon</td>\n",
              "      <td>-0.015567</td>\n",
              "    </tr>\n",
              "    <tr>\n",
              "      <th>4</th>\n",
              "      <td>Conductivity</td>\n",
              "      <td>-0.015496</td>\n",
              "    </tr>\n",
              "    <tr>\n",
              "      <th>5</th>\n",
              "      <td>Sulfate</td>\n",
              "      <td>-0.015303</td>\n",
              "    </tr>\n",
              "    <tr>\n",
              "      <th>6</th>\n",
              "      <td>ph</td>\n",
              "      <td>0.014530</td>\n",
              "    </tr>\n",
              "    <tr>\n",
              "      <th>7</th>\n",
              "      <td>Trihalomethanes</td>\n",
              "      <td>0.009244</td>\n",
              "    </tr>\n",
              "    <tr>\n",
              "      <th>8</th>\n",
              "      <td>Hardness</td>\n",
              "      <td>-0.001505</td>\n",
              "    </tr>\n",
              "  </tbody>\n",
              "</table>\n",
              "</div>"
            ],
            "text/plain": [
              "           Feature  Correlation with Potability\n",
              "0           Solids                     0.040674\n",
              "1        Turbidity                     0.022682\n",
              "2      Chloramines                     0.020784\n",
              "3   Organic_carbon                    -0.015567\n",
              "4     Conductivity                    -0.015496\n",
              "5          Sulfate                    -0.015303\n",
              "6               ph                     0.014530\n",
              "7  Trihalomethanes                     0.009244\n",
              "8         Hardness                    -0.001505"
            ]
          },
          "metadata": {},
          "execution_count": 9
        }
      ]
    },
    {
      "cell_type": "markdown",
      "metadata": {
        "id": "9Qrl8jprDq8w"
      },
      "source": [
        "4 - Since all of the features are numeric, let's unify the scale of all features before we begin classification training."
      ]
    },
    {
      "cell_type": "code",
      "metadata": {
        "colab": {
          "base_uri": "https://localhost:8080/",
          "height": 297
        },
        "id": "gNt_7H3iEIws",
        "outputId": "dda9083b-6c96-4565-8bb7-86b675046588"
      },
      "source": [
        "scaled_data = data.copy()\n",
        "scaled_data.loc[:, 'ph':'Turbidity'] = StandardScaler().fit_transform(scaled_data.loc[:, 'ph':'Turbidity'])\n",
        "scaled_data.describe()"
      ],
      "execution_count": 10,
      "outputs": [
        {
          "output_type": "execute_result",
          "data": {
            "text/html": [
              "<div>\n",
              "<style scoped>\n",
              "    .dataframe tbody tr th:only-of-type {\n",
              "        vertical-align: middle;\n",
              "    }\n",
              "\n",
              "    .dataframe tbody tr th {\n",
              "        vertical-align: top;\n",
              "    }\n",
              "\n",
              "    .dataframe thead th {\n",
              "        text-align: right;\n",
              "    }\n",
              "</style>\n",
              "<table border=\"1\" class=\"dataframe\">\n",
              "  <thead>\n",
              "    <tr style=\"text-align: right;\">\n",
              "      <th></th>\n",
              "      <th>ph</th>\n",
              "      <th>Hardness</th>\n",
              "      <th>Solids</th>\n",
              "      <th>Chloramines</th>\n",
              "      <th>Sulfate</th>\n",
              "      <th>Conductivity</th>\n",
              "      <th>Organic_carbon</th>\n",
              "      <th>Trihalomethanes</th>\n",
              "      <th>Turbidity</th>\n",
              "      <th>Potability</th>\n",
              "    </tr>\n",
              "  </thead>\n",
              "  <tbody>\n",
              "    <tr>\n",
              "      <th>count</th>\n",
              "      <td>2.011000e+03</td>\n",
              "      <td>2.011000e+03</td>\n",
              "      <td>2.011000e+03</td>\n",
              "      <td>2.011000e+03</td>\n",
              "      <td>2.011000e+03</td>\n",
              "      <td>2.011000e+03</td>\n",
              "      <td>2.011000e+03</td>\n",
              "      <td>2.011000e+03</td>\n",
              "      <td>2.011000e+03</td>\n",
              "      <td>2011.000000</td>\n",
              "    </tr>\n",
              "    <tr>\n",
              "      <th>mean</th>\n",
              "      <td>-1.809702e-16</td>\n",
              "      <td>6.192212e-17</td>\n",
              "      <td>-3.670195e-16</td>\n",
              "      <td>-7.800649e-17</td>\n",
              "      <td>1.647392e-16</td>\n",
              "      <td>7.197955e-16</td>\n",
              "      <td>4.085908e-16</td>\n",
              "      <td>-6.961512e-16</td>\n",
              "      <td>-4.171479e-16</td>\n",
              "      <td>0.403282</td>\n",
              "    </tr>\n",
              "    <tr>\n",
              "      <th>std</th>\n",
              "      <td>1.000249e+00</td>\n",
              "      <td>1.000249e+00</td>\n",
              "      <td>1.000249e+00</td>\n",
              "      <td>1.000249e+00</td>\n",
              "      <td>1.000249e+00</td>\n",
              "      <td>1.000249e+00</td>\n",
              "      <td>1.000249e+00</td>\n",
              "      <td>1.000249e+00</td>\n",
              "      <td>1.000249e+00</td>\n",
              "      <td>0.490678</td>\n",
              "    </tr>\n",
              "    <tr>\n",
              "      <th>min</th>\n",
              "      <td>-4.360285e+00</td>\n",
              "      <td>-3.753822e+00</td>\n",
              "      <td>-2.499568e+00</td>\n",
              "      <td>-3.624952e+00</td>\n",
              "      <td>-4.957520e+00</td>\n",
              "      <td>-2.787207e+00</td>\n",
              "      <td>-3.657409e+00</td>\n",
              "      <td>-3.597551e+00</td>\n",
              "      <td>-3.229792e+00</td>\n",
              "      <td>0.000000</td>\n",
              "    </tr>\n",
              "    <tr>\n",
              "      <th>25%</th>\n",
              "      <td>-6.333763e-01</td>\n",
              "      <td>-5.891793e-01</td>\n",
              "      <td>-7.293646e-01</td>\n",
              "      <td>-6.282674e-01</td>\n",
              "      <td>-6.212455e-01</td>\n",
              "      <td>-7.416563e-01</td>\n",
              "      <td>-6.719362e-01</td>\n",
              "      <td>-6.500419e-01</td>\n",
              "      <td>-6.752701e-01</td>\n",
              "      <td>0.000000</td>\n",
              "    </tr>\n",
              "    <tr>\n",
              "      <th>50%</th>\n",
              "      <td>-3.731406e-02</td>\n",
              "      <td>3.750786e-02</td>\n",
              "      <td>-1.138794e-01</td>\n",
              "      <td>6.038933e-03</td>\n",
              "      <td>-2.409264e-02</td>\n",
              "      <td>-3.805190e-02</td>\n",
              "      <td>-1.073680e-02</td>\n",
              "      <td>8.793486e-03</td>\n",
              "      <td>-1.988993e-03</td>\n",
              "      <td>0.000000</td>\n",
              "    </tr>\n",
              "    <tr>\n",
              "      <th>75%</th>\n",
              "      <td>6.147568e-01</td>\n",
              "      <td>6.274870e-01</td>\n",
              "      <td>6.093855e-01</td>\n",
              "      <td>6.156096e-01</td>\n",
              "      <td>6.337160e-01</td>\n",
              "      <td>6.920935e-01</td>\n",
              "      <td>6.995330e-01</td>\n",
              "      <td>6.775954e-01</td>\n",
              "      <td>6.978723e-01</td>\n",
              "      <td>1.000000</td>\n",
              "    </tr>\n",
              "    <tr>\n",
              "      <th>max</th>\n",
              "      <td>4.395582e+00</td>\n",
              "      <td>3.719930e+00</td>\n",
              "      <td>4.001258e+00</td>\n",
              "      <td>3.782229e+00</td>\n",
              "      <td>3.587965e+00</td>\n",
              "      <td>4.050143e+00</td>\n",
              "      <td>3.805203e+00</td>\n",
              "      <td>3.583571e+00</td>\n",
              "      <td>3.236574e+00</td>\n",
              "      <td>1.000000</td>\n",
              "    </tr>\n",
              "  </tbody>\n",
              "</table>\n",
              "</div>"
            ],
            "text/plain": [
              "                 ph      Hardness  ...     Turbidity   Potability\n",
              "count  2.011000e+03  2.011000e+03  ...  2.011000e+03  2011.000000\n",
              "mean  -1.809702e-16  6.192212e-17  ... -4.171479e-16     0.403282\n",
              "std    1.000249e+00  1.000249e+00  ...  1.000249e+00     0.490678\n",
              "min   -4.360285e+00 -3.753822e+00  ... -3.229792e+00     0.000000\n",
              "25%   -6.333763e-01 -5.891793e-01  ... -6.752701e-01     0.000000\n",
              "50%   -3.731406e-02  3.750786e-02  ... -1.988993e-03     0.000000\n",
              "75%    6.147568e-01  6.274870e-01  ...  6.978723e-01     1.000000\n",
              "max    4.395582e+00  3.719930e+00  ...  3.236574e+00     1.000000\n",
              "\n",
              "[8 rows x 10 columns]"
            ]
          },
          "metadata": {},
          "execution_count": 10
        }
      ]
    },
    {
      "cell_type": "markdown",
      "metadata": {
        "id": "0t18sQvD8av4"
      },
      "source": [
        "# Classification Models"
      ]
    },
    {
      "cell_type": "markdown",
      "metadata": {
        "id": "X4kRvYvW8gHu"
      },
      "source": [
        "# Logistic Regression"
      ]
    },
    {
      "cell_type": "code",
      "metadata": {
        "id": "hRQQWPrW29l7"
      },
      "source": [
        "from sklearn.model_selection import train_test_split, KFold\n",
        "from sklearn.linear_model import LogisticRegressionCV"
      ],
      "execution_count": 11,
      "outputs": []
    },
    {
      "cell_type": "code",
      "metadata": {
        "id": "-3KdTtXN3PM_"
      },
      "source": [
        "X = scaled_data.drop(columns='Potability')\n",
        "y = scaled_data['Potability']\n",
        "Xtrain, Xtest, ytrain, ytest = train_test_split(X, y, test_size=0.3, random_state=56)"
      ],
      "execution_count": 12,
      "outputs": []
    },
    {
      "cell_type": "code",
      "metadata": {
        "colab": {
          "base_uri": "https://localhost:8080/"
        },
        "id": "FlCwF0jU4roa",
        "outputId": "b42b504e-9c69-492a-ac00-6775a4a888f0"
      },
      "source": [
        "kfold = KFold(n_splits=3, shuffle=True, random_state=42)\n",
        "lg = LogisticRegressionCV(cv=kfold)\n",
        "lg.fit(Xtrain, ytrain)\n",
        "lg.score(Xtest, ytest)"
      ],
      "execution_count": 13,
      "outputs": [
        {
          "output_type": "execute_result",
          "data": {
            "text/plain": [
              "0.6109271523178808"
            ]
          },
          "metadata": {},
          "execution_count": 13
        }
      ]
    },
    {
      "cell_type": "code",
      "metadata": {
        "colab": {
          "base_uri": "https://localhost:8080/",
          "height": 328
        },
        "id": "yCbnLN2T5Ehu",
        "outputId": "0058cf6e-76aa-4be6-a198-ee8868536db6"
      },
      "source": [
        "lr_importances = pd.DataFrame(list(zip(X.columns, lg.coef_[0])), columns=['Feature', 'Importance'])\n",
        "lr_importances = lr_importances.sort_values(by='Importance', ascending=False, key=np.abs).reset_index(drop=True)\n",
        "lr_importances\n",
        "# _, ax = plt.subplots(figsize = (12, 7))\n",
        "# ax = sns.barplot(data=lr_importances, x='Feature', y='Importance')\n",
        "# ax.bar(range(len(X.columns)), lg.coef_[0])\n",
        "# ax.set(xlabel='Features', ylabel='Coefficients', title='Feature Importances (Coefficients)')\n",
        "# ax.set_xticks(ticks=range(len(X.columns)))\n",
        "# ax.set_xticklabels(X.columns)\n",
        "# _ = plt.setp(ax.get_xticklabels(), rotation=45, ha='right', rotation_mode=\"anchor\")"
      ],
      "execution_count": 33,
      "outputs": [
        {
          "output_type": "execute_result",
          "data": {
            "text/html": [
              "<div>\n",
              "<style scoped>\n",
              "    .dataframe tbody tr th:only-of-type {\n",
              "        vertical-align: middle;\n",
              "    }\n",
              "\n",
              "    .dataframe tbody tr th {\n",
              "        vertical-align: top;\n",
              "    }\n",
              "\n",
              "    .dataframe thead th {\n",
              "        text-align: right;\n",
              "    }\n",
              "</style>\n",
              "<table border=\"1\" class=\"dataframe\">\n",
              "  <thead>\n",
              "    <tr style=\"text-align: right;\">\n",
              "      <th></th>\n",
              "      <th>Feature</th>\n",
              "      <th>Importance</th>\n",
              "    </tr>\n",
              "  </thead>\n",
              "  <tbody>\n",
              "    <tr>\n",
              "      <th>0</th>\n",
              "      <td>Solids</td>\n",
              "      <td>0.002592</td>\n",
              "    </tr>\n",
              "    <tr>\n",
              "      <th>1</th>\n",
              "      <td>ph</td>\n",
              "      <td>0.001613</td>\n",
              "    </tr>\n",
              "    <tr>\n",
              "      <th>2</th>\n",
              "      <td>Conductivity</td>\n",
              "      <td>0.001498</td>\n",
              "    </tr>\n",
              "    <tr>\n",
              "      <th>3</th>\n",
              "      <td>Chloramines</td>\n",
              "      <td>0.001379</td>\n",
              "    </tr>\n",
              "    <tr>\n",
              "      <th>4</th>\n",
              "      <td>Sulfate</td>\n",
              "      <td>-0.001288</td>\n",
              "    </tr>\n",
              "    <tr>\n",
              "      <th>5</th>\n",
              "      <td>Trihalomethanes</td>\n",
              "      <td>0.001003</td>\n",
              "    </tr>\n",
              "    <tr>\n",
              "      <th>6</th>\n",
              "      <td>Organic_carbon</td>\n",
              "      <td>-0.000911</td>\n",
              "    </tr>\n",
              "    <tr>\n",
              "      <th>7</th>\n",
              "      <td>Hardness</td>\n",
              "      <td>-0.000356</td>\n",
              "    </tr>\n",
              "    <tr>\n",
              "      <th>8</th>\n",
              "      <td>Turbidity</td>\n",
              "      <td>0.000170</td>\n",
              "    </tr>\n",
              "  </tbody>\n",
              "</table>\n",
              "</div>"
            ],
            "text/plain": [
              "           Feature  Importance\n",
              "0           Solids    0.002592\n",
              "1               ph    0.001613\n",
              "2     Conductivity    0.001498\n",
              "3      Chloramines    0.001379\n",
              "4          Sulfate   -0.001288\n",
              "5  Trihalomethanes    0.001003\n",
              "6   Organic_carbon   -0.000911\n",
              "7         Hardness   -0.000356\n",
              "8        Turbidity    0.000170"
            ]
          },
          "metadata": {},
          "execution_count": 33
        }
      ]
    },
    {
      "cell_type": "markdown",
      "metadata": {
        "id": "eSAwZcPbbH-8"
      },
      "source": [
        "# Random Forest Classifier"
      ]
    },
    {
      "cell_type": "code",
      "metadata": {
        "id": "VERDr8vPY8L3"
      },
      "source": [
        "from sklearn.ensemble import RandomForestClassifier"
      ],
      "execution_count": 15,
      "outputs": []
    },
    {
      "cell_type": "code",
      "metadata": {
        "id": "c5eCOHUDcwwH"
      },
      "source": [
        "n_trees = np.arange(50, 1000, 50)\n",
        "rfc = RandomForestClassifier(oob_score=True, warm_start=True)\n",
        "\n",
        "scores = []\n",
        "for nt in np.asarray(n_trees, dtype=np.int32):\n",
        "  rfc.set_params(n_estimators=nt)\n",
        "  rfc.fit(Xtrain, ytrain)\n",
        "  scores.append(rfc.oob_score_)"
      ],
      "execution_count": 16,
      "outputs": []
    },
    {
      "cell_type": "code",
      "metadata": {
        "colab": {
          "base_uri": "https://localhost:8080/",
          "height": 464
        },
        "id": "1TQs7hJdhWN1",
        "outputId": "4b772159-ac66-4647-cd61-1de0ea487fe8"
      },
      "source": [
        "_, ax = plt.subplots(figsize=(15,7))\n",
        "ax = sns.lineplot(x=n_trees, y=(1 - np.array(scores)))\n",
        "ax.set(xlabel='n_Trees', ylabel='Error', title='Error vs Number of Trees')\n",
        "ax.grid(True)\n",
        "_ = ax.set_xticks(n_trees)"
      ],
      "execution_count": 17,
      "outputs": [
        {
          "output_type": "display_data",
          "data": {
            "image/png": "[encoded data removed]",
            "text/plain": [
              "<Figure size 1080x504 with 1 Axes>"
            ]
          },
          "metadata": {}
        }
      ]
    },
    {
      "cell_type": "code",
      "metadata": {
        "colab": {
          "base_uri": "https://localhost:8080/"
        },
        "id": "cYZorzRhjokE",
        "outputId": "0165952e-2d4e-4876-911b-46b6f7bbff93"
      },
      "source": [
        "best_rfc = RandomForestClassifier(n_estimators=500, oob_score=True).fit(Xtrain, ytrain)\n",
        "best_rfc.score(Xtest, ytest)"
      ],
      "execution_count": 18,
      "outputs": [
        {
          "output_type": "execute_result",
          "data": {
            "text/plain": [
              "0.6837748344370861"
            ]
          },
          "metadata": {},
          "execution_count": 18
        }
      ]
    },
    {
      "cell_type": "code",
      "metadata": {
        "colab": {
          "base_uri": "https://localhost:8080/"
        },
        "id": "Uc7fFxnZvndu",
        "outputId": "48e7d653-bf29-4bfc-eb22-cd5be5af3ffd"
      },
      "source": [
        "importances = best_rfc.feature_importances_\n",
        "importances"
      ],
      "execution_count": 19,
      "outputs": [
        {
          "output_type": "execute_result",
          "data": {
            "text/plain": [
              "array([0.13905385, 0.11629822, 0.11040182, 0.11623572, 0.14362828,\n",
              "       0.09398491, 0.09205881, 0.09520824, 0.09313015])"
            ]
          },
          "metadata": {},
          "execution_count": 19
        }
      ]
    },
    {
      "cell_type": "code",
      "metadata": {
        "colab": {
          "base_uri": "https://localhost:8080/",
          "height": 328
        },
        "id": "ySxTLzpfrUba",
        "outputId": "8fc5a7db-3600-4bb4-d1e8-f07f44c260c8"
      },
      "source": [
        "rfc_importances = pd.DataFrame(zip(X.columns, importances),columns=['Feature', 'Importance'])\n",
        "rfc_importances = rfc_importances.sort_values(by='Importance', ascending=False).reset_index(drop=True)\n",
        "rfc_importances"
      ],
      "execution_count": 23,
      "outputs": [
        {
          "output_type": "execute_result",
          "data": {
            "text/html": [
              "<div>\n",
              "<style scoped>\n",
              "    .dataframe tbody tr th:only-of-type {\n",
              "        vertical-align: middle;\n",
              "    }\n",
              "\n",
              "    .dataframe tbody tr th {\n",
              "        vertical-align: top;\n",
              "    }\n",
              "\n",
              "    .dataframe thead th {\n",
              "        text-align: right;\n",
              "    }\n",
              "</style>\n",
              "<table border=\"1\" class=\"dataframe\">\n",
              "  <thead>\n",
              "    <tr style=\"text-align: right;\">\n",
              "      <th></th>\n",
              "      <th>Feature</th>\n",
              "      <th>Importance</th>\n",
              "    </tr>\n",
              "  </thead>\n",
              "  <tbody>\n",
              "    <tr>\n",
              "      <th>0</th>\n",
              "      <td>Sulfate</td>\n",
              "      <td>0.143628</td>\n",
              "    </tr>\n",
              "    <tr>\n",
              "      <th>1</th>\n",
              "      <td>ph</td>\n",
              "      <td>0.139054</td>\n",
              "    </tr>\n",
              "    <tr>\n",
              "      <th>2</th>\n",
              "      <td>Hardness</td>\n",
              "      <td>0.116298</td>\n",
              "    </tr>\n",
              "    <tr>\n",
              "      <th>3</th>\n",
              "      <td>Chloramines</td>\n",
              "      <td>0.116236</td>\n",
              "    </tr>\n",
              "    <tr>\n",
              "      <th>4</th>\n",
              "      <td>Solids</td>\n",
              "      <td>0.110402</td>\n",
              "    </tr>\n",
              "    <tr>\n",
              "      <th>5</th>\n",
              "      <td>Trihalomethanes</td>\n",
              "      <td>0.095208</td>\n",
              "    </tr>\n",
              "    <tr>\n",
              "      <th>6</th>\n",
              "      <td>Conductivity</td>\n",
              "      <td>0.093985</td>\n",
              "    </tr>\n",
              "    <tr>\n",
              "      <th>7</th>\n",
              "      <td>Turbidity</td>\n",
              "      <td>0.093130</td>\n",
              "    </tr>\n",
              "    <tr>\n",
              "      <th>8</th>\n",
              "      <td>Organic_carbon</td>\n",
              "      <td>0.092059</td>\n",
              "    </tr>\n",
              "  </tbody>\n",
              "</table>\n",
              "</div>"
            ],
            "text/plain": [
              "           Feature  Importance\n",
              "0          Sulfate    0.143628\n",
              "1               ph    0.139054\n",
              "2         Hardness    0.116298\n",
              "3      Chloramines    0.116236\n",
              "4           Solids    0.110402\n",
              "5  Trihalomethanes    0.095208\n",
              "6     Conductivity    0.093985\n",
              "7        Turbidity    0.093130\n",
              "8   Organic_carbon    0.092059"
            ]
          },
          "metadata": {},
          "execution_count": 23
        }
      ]
    },
    {
      "cell_type": "markdown",
      "metadata": {
        "id": "ImivzDj99m1P"
      },
      "source": [
        "# Support Vector Machine"
      ]
    },
    {
      "cell_type": "code",
      "metadata": {
        "id": "e9fvkFVE9lOZ"
      },
      "source": [
        "from sklearn.svm import SVC\n",
        "from sklearn.model_selection import GridSearchCV\n",
        "from sklearn.inspection import permutation_importance"
      ],
      "execution_count": 24,
      "outputs": []
    },
    {
      "cell_type": "code",
      "metadata": {
        "id": "AgIPSV1-993R"
      },
      "source": [
        "param = {'kernel':('linear', 'rbf'), 'C': np.geomspace(1, 10, 10)}\n",
        "svmCV = GridSearchCV(SVC(), param)"
      ],
      "execution_count": 25,
      "outputs": []
    },
    {
      "cell_type": "code",
      "metadata": {
        "colab": {
          "base_uri": "https://localhost:8080/"
        },
        "id": "5g4FUg0vimVA",
        "outputId": "ef6f0613-590c-4476-993f-0715b9b3f5ac"
      },
      "source": [
        "svmCV.fit(Xtrain, ytrain)"
      ],
      "execution_count": 26,
      "outputs": [
        {
          "output_type": "execute_result",
          "data": {
            "text/plain": [
              "GridSearchCV(cv=None, error_score=nan,\n",
              "             estimator=SVC(C=1.0, break_ties=False, cache_size=200,\n",
              "                           class_weight=None, coef0=0.0,\n",
              "                           decision_function_shape='ovr', degree=3,\n",
              "                           gamma='scale', kernel='rbf', max_iter=-1,\n",
              "                           probability=False, random_state=None, shrinking=True,\n",
              "                           tol=0.001, verbose=False),\n",
              "             iid='deprecated', n_jobs=None,\n",
              "             param_grid={'C': array([ 1.        ,  1.29154967,  1.66810054,  2.15443469,  2.7825594 ,\n",
              "        3.59381366,  4.64158883,  5.9948425 ,  7.74263683, 10.        ]),\n",
              "                         'kernel': ('linear', 'rbf')},\n",
              "             pre_dispatch='2*n_jobs', refit=True, return_train_score=False,\n",
              "             scoring=None, verbose=0)"
            ]
          },
          "metadata": {},
          "execution_count": 26
        }
      ]
    },
    {
      "cell_type": "code",
      "metadata": {
        "colab": {
          "base_uri": "https://localhost:8080/"
        },
        "id": "-OqQrT7Zi4HI",
        "outputId": "b342ac8a-a7aa-4e92-df80-0a5ec413a274"
      },
      "source": [
        "svc_model = svmCV.best_estimator_\n",
        "svc_model.score(Xtest, ytest)"
      ],
      "execution_count": 27,
      "outputs": [
        {
          "output_type": "execute_result",
          "data": {
            "text/plain": [
              "0.7019867549668874"
            ]
          },
          "metadata": {},
          "execution_count": 27
        }
      ]
    },
    {
      "cell_type": "markdown",
      "metadata": {
        "id": "X-R05HBRokL0"
      },
      "source": [
        "\n",
        "\n",
        "*   Since SVM radial based lernel does not offer a method for exracting feature importances, we will use [Permutation_Importance](https://scikit-learn.org/stable/modules/permutation_importance.html) function from sklearn library\n",
        "\n"
      ]
    },
    {
      "cell_type": "code",
      "metadata": {
        "colab": {
          "base_uri": "https://localhost:8080/"
        },
        "id": "ZdDdsskhjebd",
        "outputId": "2955ed55-1b0b-4d9c-9c70-7300ac970664"
      },
      "source": [
        "simportances = permutation_importance(svc_model, Xtest, ytest)\n",
        "simportances['importances_mean']"
      ],
      "execution_count": 28,
      "outputs": [
        {
          "output_type": "execute_result",
          "data": {
            "text/plain": [
              "array([0.07086093, 0.03013245, 0.03675497, 0.03112583, 0.09768212,\n",
              "       0.01490066, 0.01092715, 0.00794702, 0.00993377])"
            ]
          },
          "metadata": {},
          "execution_count": 28
        }
      ]
    },
    {
      "cell_type": "code",
      "metadata": {
        "colab": {
          "base_uri": "https://localhost:8080/",
          "height": 328
        },
        "id": "Q6BhbAcgkEx-",
        "outputId": "f997b5b4-68e4-4a0a-e3b0-13e488b72774"
      },
      "source": [
        "svc_importance = pd.DataFrame(zip(X.columns, simportances['importances_mean']), columns=['Feature', 'Importance'])\n",
        "svc_importance = svc_importance.sort_values(by='Importance', ascending=False).reset_index(drop=True)\n",
        "svc_importance"
      ],
      "execution_count": 29,
      "outputs": [
        {
          "output_type": "execute_result",
          "data": {
            "text/html": [
              "<div>\n",
              "<style scoped>\n",
              "    .dataframe tbody tr th:only-of-type {\n",
              "        vertical-align: middle;\n",
              "    }\n",
              "\n",
              "    .dataframe tbody tr th {\n",
              "        vertical-align: top;\n",
              "    }\n",
              "\n",
              "    .dataframe thead th {\n",
              "        text-align: right;\n",
              "    }\n",
              "</style>\n",
              "<table border=\"1\" class=\"dataframe\">\n",
              "  <thead>\n",
              "    <tr style=\"text-align: right;\">\n",
              "      <th></th>\n",
              "      <th>Feature</th>\n",
              "      <th>Importance</th>\n",
              "    </tr>\n",
              "  </thead>\n",
              "  <tbody>\n",
              "    <tr>\n",
              "      <th>0</th>\n",
              "      <td>Sulfate</td>\n",
              "      <td>0.097682</td>\n",
              "    </tr>\n",
              "    <tr>\n",
              "      <th>1</th>\n",
              "      <td>ph</td>\n",
              "      <td>0.070861</td>\n",
              "    </tr>\n",
              "    <tr>\n",
              "      <th>2</th>\n",
              "      <td>Solids</td>\n",
              "      <td>0.036755</td>\n",
              "    </tr>\n",
              "    <tr>\n",
              "      <th>3</th>\n",
              "      <td>Chloramines</td>\n",
              "      <td>0.031126</td>\n",
              "    </tr>\n",
              "    <tr>\n",
              "      <th>4</th>\n",
              "      <td>Hardness</td>\n",
              "      <td>0.030132</td>\n",
              "    </tr>\n",
              "    <tr>\n",
              "      <th>5</th>\n",
              "      <td>Conductivity</td>\n",
              "      <td>0.014901</td>\n",
              "    </tr>\n",
              "    <tr>\n",
              "      <th>6</th>\n",
              "      <td>Organic_carbon</td>\n",
              "      <td>0.010927</td>\n",
              "    </tr>\n",
              "    <tr>\n",
              "      <th>7</th>\n",
              "      <td>Turbidity</td>\n",
              "      <td>0.009934</td>\n",
              "    </tr>\n",
              "    <tr>\n",
              "      <th>8</th>\n",
              "      <td>Trihalomethanes</td>\n",
              "      <td>0.007947</td>\n",
              "    </tr>\n",
              "  </tbody>\n",
              "</table>\n",
              "</div>"
            ],
            "text/plain": [
              "           Feature  Importance\n",
              "0          Sulfate    0.097682\n",
              "1               ph    0.070861\n",
              "2           Solids    0.036755\n",
              "3      Chloramines    0.031126\n",
              "4         Hardness    0.030132\n",
              "5     Conductivity    0.014901\n",
              "6   Organic_carbon    0.010927\n",
              "7        Turbidity    0.009934\n",
              "8  Trihalomethanes    0.007947"
            ]
          },
          "metadata": {},
          "execution_count": 29
        }
      ]
    }
  ]
}